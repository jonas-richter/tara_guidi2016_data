{
  "nbformat": 4,
  "nbformat_minor": 0,
  "metadata": {
    "colab": {
      "name": "Tara_environmental",
      "provenance": [],
      "collapsed_sections": [],
      "authorship_tag": "ABX9TyMYteRbQX1EdX0KG/0q4hPN",
      "include_colab_link": true
    },
    "kernelspec": {
      "name": "python3",
      "display_name": "Python 3"
    },
    "language_info": {
      "name": "python"
    }
  },
  "cells": [
    {
      "cell_type": "markdown",
      "metadata": {
        "id": "view-in-github",
        "colab_type": "text"
      },
      "source": [
        "<a href=\"https://colab.research.google.com/github/jonas-richter/tara_guidi2016_data/blob/data_exploration/Tara_environmental.ipynb\" target=\"_parent\"><img src=\"https://colab.research.google.com/assets/colab-badge.svg\" alt=\"Open In Colab\"/></a>"
      ]
    },
    {
      "cell_type": "markdown",
      "source": [
        "# Explore data from Tara oceans project"
      ],
      "metadata": {
        "id": "El21V3Hqxl9Z"
      }
    },
    {
      "cell_type": "code",
      "execution_count": 85,
      "metadata": {
        "id": "nqSOXFvPxiKj"
      },
      "outputs": [],
      "source": [
        "# Dependencies\n",
        "import pandas as pd\n",
        "import numpy as np\n",
        "import seaborn as sns\n",
        "import matplotlib.pyplot as plt\n",
        "from pandas.plotting import scatter_matrix\n",
        "import plotly.express as px\n",
        "## ML\n",
        "from sklearn.ensemble import GradientBoostingClassifier\n",
        "from sklearn import tree\n",
        "from sklearn.model_selection import GridSearchCV\n",
        "from sklearn.model_selection import cross_val_score\n",
        "from sklearn.model_selection import KFold\n",
        "from sklearn.preprocessing import StandardScaler\n",
        "from sklearn.decomposition import PCA"
      ]
    },
    {
      "cell_type": "code",
      "source": [
        "url = 'https://github.com/jonas-richter/tara_guidi2016_data/blob/data_exploration/data/SI4_environmental_data.tsv?raw=true'\n",
        "df = pd.read_csv(url, on_bad_lines='skip', sep='\\t', header = 0)"
      ],
      "metadata": {
        "id": "7bn9hk0B5_5_"
      },
      "execution_count": 74,
      "outputs": []
    },
    {
      "cell_type": "markdown",
      "source": [
        "## Acronyms\n",
        "*   Sample: Sample ID\n",
        "*   Latitude: Latitude\n",
        "*   Salinity: Salinity\n",
        "*   NO2 (umol/L): NO2 concentration\n",
        "*   PO4 (umol/L): PO4 concentration\n",
        "*   NO2NO3 (umol/L): NO2NO3 concentration\n",
        "*   Mean Chloro HPLC adjusted (mg Chl/m3): Chlorophyll concentration\n",
        "*   Mean Temperature deg C: Temperature in degree Celsius\n",
        "*   Mean Oxygen adjusted (umol/Kg): Oxygen concentration\n",
        "*   Mean Flux at 150m: Carbon flux at 150m\n",
        "*   NPP 8d VGPM (mgC/m2/day): NPP weekly average (VGPM model)"
      ],
      "metadata": {
        "id": "G3myoT3yAzCs"
      }
    },
    {
      "cell_type": "code",
      "source": [
        "df.info"
      ],
      "metadata": {
        "colab": {
          "base_uri": "https://localhost:8080/"
        },
        "id": "UwISIkY07aZm",
        "outputId": "578a7157-e9b6-47ba-d9ba-dedee9fe8a08"
      },
      "execution_count": 75,
      "outputs": [
        {
          "output_type": "execute_result",
          "data": {
            "text/plain": [
              "<bound method DataFrame.info of       Sample   Latitude  Longitude   Salinity  NO2 (umol/L)  PO4 (umol/L)  \\\n",
              "0      S4DCM  36.573000  -6.538667  36.556443           NaN           NaN   \n",
              "1      S4SUR  36.553333  -6.566833  36.632400           NaN           NaN   \n",
              "2      S7DCM  37.038683   1.949833        NaN          0.00          0.01   \n",
              "3      S7SUR  37.021067   1.949467  37.491100          0.00          0.06   \n",
              "4      S9DCM  39.073400   5.859833  37.823200          0.02          0.02   \n",
              "..       ...        ...        ...        ...           ...           ...   \n",
              "99   S150SUR  35.907050 -37.260950  36.312300          0.04          0.01   \n",
              "100  S151DCM  36.194437 -28.882892  36.162887          0.01          0.01   \n",
              "101  S151SUR  36.155767 -29.008900  36.237750          0.02          0.01   \n",
              "102  S152DCM  43.739633 -16.882796  35.989700          0.32          0.17   \n",
              "103  S152SUR  43.687600 -16.851517  35.986042          0.31          0.16   \n",
              "\n",
              "     NO2NO3 (umol/L)  Mean Chloro HPLC adjusted (mg Chl/m3)  \\\n",
              "0                NaN                               0.880307   \n",
              "1                NaN                               0.078000   \n",
              "2               0.03                               0.553274   \n",
              "3               0.03                               0.081200   \n",
              "4               0.08                               0.434367   \n",
              "..               ...                                    ...   \n",
              "99              0.17                               0.196921   \n",
              "100             0.05                               0.247378   \n",
              "101             0.02                               0.040347   \n",
              "102             2.26                               0.268290   \n",
              "103             2.16                               0.238225   \n",
              "\n",
              "     Mean Temperature deg C  Mean Oxygen adjusted (umol/Kg)  \\\n",
              "0                 16.246331                             NaN   \n",
              "1                 20.525100                             NaN   \n",
              "2                 17.367460                             NaN   \n",
              "3                 23.825750                             NaN   \n",
              "4                 16.151933                             NaN   \n",
              "..                      ...                             ...   \n",
              "99                17.583075                      228.375583   \n",
              "100               16.751066                      228.545150   \n",
              "101               17.260108                      232.053333   \n",
              "102               14.282106                      240.842650   \n",
              "103               14.280650                      243.148000   \n",
              "\n",
              "     Mean Flux at 150m  NPP 8d VGPM (mgC/m2/day)  \n",
              "0                  NaN                       NaN  \n",
              "1                  NaN                  686.0860  \n",
              "2                  NaN                  354.2245  \n",
              "3                  NaN                  354.2245  \n",
              "4                  NaN                  205.1220  \n",
              "..                 ...                       ...  \n",
              "99            0.412354                  573.6970  \n",
              "100           1.379385                  466.3220  \n",
              "101           4.591674                  444.0935  \n",
              "102           4.113166                  442.7360  \n",
              "103           1.522932                  423.2710  \n",
              "\n",
              "[104 rows x 12 columns]>"
            ]
          },
          "metadata": {},
          "execution_count": 75
        }
      ]
    },
    {
      "cell_type": "code",
      "source": [
        "df.columns"
      ],
      "metadata": {
        "colab": {
          "base_uri": "https://localhost:8080/"
        },
        "id": "UOmr0C64C2sD",
        "outputId": "b7df9e82-899e-4a02-b55c-962e6ce60a9b"
      },
      "execution_count": 76,
      "outputs": [
        {
          "output_type": "execute_result",
          "data": {
            "text/plain": [
              "Index(['Sample', 'Latitude', 'Longitude', 'Salinity', 'NO2 (umol/L)',\n",
              "       'PO4 (umol/L)', 'NO2NO3 (umol/L)',\n",
              "       'Mean Chloro HPLC adjusted (mg Chl/m3)', 'Mean Temperature deg C',\n",
              "       'Mean Oxygen adjusted (umol/Kg)', 'Mean Flux at 150m',\n",
              "       'NPP 8d VGPM (mgC/m2/day)'],\n",
              "      dtype='object')"
            ]
          },
          "metadata": {},
          "execution_count": 76
        }
      ]
    },
    {
      "cell_type": "code",
      "source": [
        "sns.clustermap(df.corr(), center=0, cmap=\"vlag\",\n",
        "                   dendrogram_ratio=(.1, .2),\n",
        "                   cbar_pos=(.02, .32, .03, .2),\n",
        "                   linewidths=.75, figsize=(7, 7))"
      ],
      "metadata": {
        "colab": {
          "base_uri": "https://localhost:8080/",
          "height": 530
        },
        "id": "sABNrI7gODVI",
        "outputId": "7310681a-0415-47ac-f490-02ee4efbbdfe"
      },
      "execution_count": 77,
      "outputs": [
        {
          "output_type": "execute_result",
          "data": {
            "text/plain": [
              "<seaborn.matrix.ClusterGrid at 0x7f5f313d18d0>"
            ]
          },
          "metadata": {},
          "execution_count": 77
        },
        {
          "output_type": "display_data",
          "data": {
            "text/plain": [
              "<Figure size 504x504 with 4 Axes>"
            ],
            "image/png": "[encoded data removed]"
          },
          "metadata": {
            "needs_background": "light"
          }
        }
      ]
    },
    {
      "cell_type": "markdown",
      "source": [
        "## Lessons from correlation plot\n",
        "*   Samples with high NO2 concentration also tend to have high PO4 and NO2NO3 concentration\n",
        "*   Very high positive correlation between PO4 and NO2NO3 concentration\n",
        "*   Mean flux at 150 m positively correlates with NPP 8d VGPM (mgC/m2/day)\n",
        "*   Mean Chloro HPLC adjusted (mg Chl/m3) positively correlates primarily with NPP 8d VGPM (mgC/m2/day)\n",
        "*   Mean temperature negatively correlates primarily with mean oxygen adjusted (µnmol/kg)\n",
        "*   Salinity shows primarily a rather weak negative correlation to PO4 concentration\n",
        "*   Mean oxygen adjusted exerts a weak positive correlation to NPP 8d VGPM (mgC/m2/day) and negatively correlates with mean temperature, and concentrations of NO2, PO4, NO2NO3"
      ],
      "metadata": {
        "id": "Tr3xkCZD9D2M"
      }
    },
    {
      "cell_type": "markdown",
      "source": [
        "# Eukaryotic lineages\n",
        "SI5_eukaryotic_lineages.tsv: Supplementary Table 5 containing eukaryotic lineages and their correlations as computed using sparse PLS regression (sPLS)"
      ],
      "metadata": {
        "id": "_WGymG4EFWPz"
      }
    },
    {
      "cell_type": "code",
      "source": [
        "# read data\n",
        "euk = pd.read_csv('https://github.com/jonas-richter/tara_guidi2016_data/blob/data_exploration/data/SI5_eukaryotic_lineages.tsv?raw=true',\n",
        "                  on_bad_lines='skip', sep='\\t', header = 0)"
      ],
      "metadata": {
        "id": "dYN_5E_1FZgj"
      },
      "execution_count": 78,
      "outputs": []
    },
    {
      "cell_type": "code",
      "source": [
        "#euk.iloc[[0,1,2,3,4], [0,1,2,3,4]]\n",
        "euk.loc[[0,1,2,3,4,5]]"
      ],
      "metadata": {
        "colab": {
          "base_uri": "https://localhost:8080/",
          "height": 299
        },
        "id": "Q6h0JBt3FxNe",
        "outputId": "719a3a51-d5f1-486e-f9cc-d59f263da087"
      },
      "execution_count": 79,
      "outputs": [
        {
          "output_type": "execute_result",
          "data": {
            "text/plain": [
              "                          Eukaryotic lineages  Latitude  Longitude  \\\n",
              "0            Collodaria_Sphaerozoum+punctatum -0.290778  -0.342873   \n",
              "1            Other_Chlorophyta_Pycnococcaceae  0.242449   0.295115   \n",
              "2            MAST-4-6-7-8-9-10-11_MAST-7D+sp.  0.282508   0.278425   \n",
              "3           Telonemia_Telonemia-Group-1_X+sp. -0.242103  -0.239775   \n",
              "4  Basidiomycota_Rhodosporidium+sphaerocarpum -0.174427  -0.157652   \n",
              "5                      Haptophyta_Phaeocystis -0.316448  -0.384610   \n",
              "\n",
              "   Temperature  Salinity    Oxygen  Chlorophyll  Carbon export       NO2  \\\n",
              "0    -0.026508 -0.285229 -0.149053     0.244520      -0.037205  0.234611   \n",
              "1    -0.022078  0.274851  0.172644    -0.233683      -0.019595 -0.239301   \n",
              "2     0.287570  0.057679 -0.141805    -0.060945       0.336104  0.030936   \n",
              "3    -0.240838 -0.054126  0.115390     0.056009      -0.281614 -0.020971   \n",
              "4    -0.245786  0.021577  0.162252    -0.008401      -0.285693 -0.086567   \n",
              "5     0.026046 -0.356418 -0.222305     0.303138       0.022401  0.309600   \n",
              "\n",
              "        PO4    NO2NO3       NPP  \n",
              "0  0.259532  0.220909 -0.095176  \n",
              "1 -0.271284 -0.227694  0.046180  \n",
              "2  0.073125  0.043174  0.289077  \n",
              "3 -0.055705 -0.031482 -0.243525  \n",
              "4 -0.129921 -0.093843 -0.229723  \n",
              "5  0.350643  0.294462 -0.062355  "
            ],
            "text/html": [
              "\n",
              "  <div id=\"df-80923473-d50e-41f1-897f-a9d0ee41eeae\">\n",
              "    <div class=\"colab-df-container\">\n",
              "      <div>\n",
              "<style scoped>\n",
              "    .dataframe tbody tr th:only-of-type {\n",
              "        vertical-align: middle;\n",
              "    }\n",
              "\n",
              "    .dataframe tbody tr th {\n",
              "        vertical-align: top;\n",
              "    }\n",
              "\n",
              "    .dataframe thead th {\n",
              "        text-align: right;\n",
              "    }\n",
              "</style>\n",
              "<table border=\"1\" class=\"dataframe\">\n",
              "  <thead>\n",
              "    <tr style=\"text-align: right;\">\n",
              "      <th></th>\n",
              "      <th>Eukaryotic lineages</th>\n",
              "      <th>Latitude</th>\n",
              "      <th>Longitude</th>\n",
              "      <th>Temperature</th>\n",
              "      <th>Salinity</th>\n",
              "      <th>Oxygen</th>\n",
              "      <th>Chlorophyll</th>\n",
              "      <th>Carbon export</th>\n",
              "      <th>NO2</th>\n",
              "      <th>PO4</th>\n",
              "      <th>NO2NO3</th>\n",
              "      <th>NPP</th>\n",
              "    </tr>\n",
              "  </thead>\n",
              "  <tbody>\n",
              "    <tr>\n",
              "      <th>0</th>\n",
              "      <td>Collodaria_Sphaerozoum+punctatum</td>\n",
              "      <td>-0.290778</td>\n",
              "      <td>-0.342873</td>\n",
              "      <td>-0.026508</td>\n",
              "      <td>-0.285229</td>\n",
              "      <td>-0.149053</td>\n",
              "      <td>0.244520</td>\n",
              "      <td>-0.037205</td>\n",
              "      <td>0.234611</td>\n",
              "      <td>0.259532</td>\n",
              "      <td>0.220909</td>\n",
              "      <td>-0.095176</td>\n",
              "    </tr>\n",
              "    <tr>\n",
              "      <th>1</th>\n",
              "      <td>Other_Chlorophyta_Pycnococcaceae</td>\n",
              "      <td>0.242449</td>\n",
              "      <td>0.295115</td>\n",
              "      <td>-0.022078</td>\n",
              "      <td>0.274851</td>\n",
              "      <td>0.172644</td>\n",
              "      <td>-0.233683</td>\n",
              "      <td>-0.019595</td>\n",
              "      <td>-0.239301</td>\n",
              "      <td>-0.271284</td>\n",
              "      <td>-0.227694</td>\n",
              "      <td>0.046180</td>\n",
              "    </tr>\n",
              "    <tr>\n",
              "      <th>2</th>\n",
              "      <td>MAST-4-6-7-8-9-10-11_MAST-7D+sp.</td>\n",
              "      <td>0.282508</td>\n",
              "      <td>0.278425</td>\n",
              "      <td>0.287570</td>\n",
              "      <td>0.057679</td>\n",
              "      <td>-0.141805</td>\n",
              "      <td>-0.060945</td>\n",
              "      <td>0.336104</td>\n",
              "      <td>0.030936</td>\n",
              "      <td>0.073125</td>\n",
              "      <td>0.043174</td>\n",
              "      <td>0.289077</td>\n",
              "    </tr>\n",
              "    <tr>\n",
              "      <th>3</th>\n",
              "      <td>Telonemia_Telonemia-Group-1_X+sp.</td>\n",
              "      <td>-0.242103</td>\n",
              "      <td>-0.239775</td>\n",
              "      <td>-0.240838</td>\n",
              "      <td>-0.054126</td>\n",
              "      <td>0.115390</td>\n",
              "      <td>0.056009</td>\n",
              "      <td>-0.281614</td>\n",
              "      <td>-0.020971</td>\n",
              "      <td>-0.055705</td>\n",
              "      <td>-0.031482</td>\n",
              "      <td>-0.243525</td>\n",
              "    </tr>\n",
              "    <tr>\n",
              "      <th>4</th>\n",
              "      <td>Basidiomycota_Rhodosporidium+sphaerocarpum</td>\n",
              "      <td>-0.174427</td>\n",
              "      <td>-0.157652</td>\n",
              "      <td>-0.245786</td>\n",
              "      <td>0.021577</td>\n",
              "      <td>0.162252</td>\n",
              "      <td>-0.008401</td>\n",
              "      <td>-0.285693</td>\n",
              "      <td>-0.086567</td>\n",
              "      <td>-0.129921</td>\n",
              "      <td>-0.093843</td>\n",
              "      <td>-0.229723</td>\n",
              "    </tr>\n",
              "    <tr>\n",
              "      <th>5</th>\n",
              "      <td>Haptophyta_Phaeocystis</td>\n",
              "      <td>-0.316448</td>\n",
              "      <td>-0.384610</td>\n",
              "      <td>0.026046</td>\n",
              "      <td>-0.356418</td>\n",
              "      <td>-0.222305</td>\n",
              "      <td>0.303138</td>\n",
              "      <td>0.022401</td>\n",
              "      <td>0.309600</td>\n",
              "      <td>0.350643</td>\n",
              "      <td>0.294462</td>\n",
              "      <td>-0.062355</td>\n",
              "    </tr>\n",
              "  </tbody>\n",
              "</table>\n",
              "</div>\n",
              "      <button class=\"colab-df-convert\" onclick=\"convertToInteractive('df-80923473-d50e-41f1-897f-a9d0ee41eeae')\"\n",
              "              title=\"Convert this dataframe to an interactive table.\"\n",
              "              style=\"display:none;\">\n",
              "        \n",
              "  <svg xmlns=\"http://www.w3.org/2000/svg\" height=\"24px\"viewBox=\"0 0 24 24\"\n",
              "       width=\"24px\">\n",
              "    <path d=\"M0 0h24v24H0V0z\" fill=\"none\"/>\n",
              "    <path d=\"M18.56 5.44l.94 2.06.94-2.06 2.06-.94-2.06-.94-.94-2.06-.94 2.06-2.06.94zm-11 1L8.5 8.5l.94-2.06 2.06-.94-2.06-.94L8.5 2.5l-.94 2.06-2.06.94zm10 10l.94 2.06.94-2.06 2.06-.94-2.06-.94-.94-2.06-.94 2.06-2.06.94z\"/><path d=\"M17.41 7.96l-1.37-1.37c-.4-.4-.92-.59-1.43-.59-.52 0-1.04.2-1.43.59L10.3 9.45l-7.72 7.72c-.78.78-.78 2.05 0 2.83L4 21.41c.39.39.9.59 1.41.59.51 0 1.02-.2 1.41-.59l7.78-7.78 2.81-2.81c.8-.78.8-2.07 0-2.86zM5.41 20L4 18.59l7.72-7.72 1.47 1.35L5.41 20z\"/>\n",
              "  </svg>\n",
              "      </button>\n",
              "      \n",
              "  <style>\n",
              "    .colab-df-container {\n",
              "      display:flex;\n",
              "      flex-wrap:wrap;\n",
              "      gap: 12px;\n",
              "    }\n",
              "\n",
              "    .colab-df-convert {\n",
              "      background-color: #E8F0FE;\n",
              "      border: none;\n",
              "      border-radius: 50%;\n",
              "      cursor: pointer;\n",
              "      display: none;\n",
              "      fill: #1967D2;\n",
              "      height: 32px;\n",
              "      padding: 0 0 0 0;\n",
              "      width: 32px;\n",
              "    }\n",
              "\n",
              "    .colab-df-convert:hover {\n",
              "      background-color: #E2EBFA;\n",
              "      box-shadow: 0px 1px 2px rgba(60, 64, 67, 0.3), 0px 1px 3px 1px rgba(60, 64, 67, 0.15);\n",
              "      fill: #174EA6;\n",
              "    }\n",
              "\n",
              "    [theme=dark] .colab-df-convert {\n",
              "      background-color: #3B4455;\n",
              "      fill: #D2E3FC;\n",
              "    }\n",
              "\n",
              "    [theme=dark] .colab-df-convert:hover {\n",
              "      background-color: #434B5C;\n",
              "      box-shadow: 0px 1px 3px 1px rgba(0, 0, 0, 0.15);\n",
              "      filter: drop-shadow(0px 1px 2px rgba(0, 0, 0, 0.3));\n",
              "      fill: #FFFFFF;\n",
              "    }\n",
              "  </style>\n",
              "\n",
              "      <script>\n",
              "        const buttonEl =\n",
              "          document.querySelector('#df-80923473-d50e-41f1-897f-a9d0ee41eeae button.colab-df-convert');\n",
              "        buttonEl.style.display =\n",
              "          google.colab.kernel.accessAllowed ? 'block' : 'none';\n",
              "\n",
              "        async function convertToInteractive(key) {\n",
              "          const element = document.querySelector('#df-80923473-d50e-41f1-897f-a9d0ee41eeae');\n",
              "          const dataTable =\n",
              "            await google.colab.kernel.invokeFunction('convertToInteractive',\n",
              "                                                     [key], {});\n",
              "          if (!dataTable) return;\n",
              "\n",
              "          const docLinkHtml = 'Like what you see? Visit the ' +\n",
              "            '<a target=\"_blank\" href=https://colab.research.google.com/notebooks/data_table.ipynb>data table notebook</a>'\n",
              "            + ' to learn more about interactive tables.';\n",
              "          element.innerHTML = '';\n",
              "          dataTable['output_type'] = 'display_data';\n",
              "          await google.colab.output.renderOutput(dataTable, element);\n",
              "          const docLink = document.createElement('div');\n",
              "          docLink.innerHTML = docLinkHtml;\n",
              "          element.appendChild(docLink);\n",
              "        }\n",
              "      </script>\n",
              "    </div>\n",
              "  </div>\n",
              "  "
            ]
          },
          "metadata": {},
          "execution_count": 79
        }
      ]
    },
    {
      "cell_type": "code",
      "source": [
        "euk.columns"
      ],
      "metadata": {
        "colab": {
          "base_uri": "https://localhost:8080/"
        },
        "id": "Qqaf8HRFGQH_",
        "outputId": "c55e505b-f54a-48d2-9d8f-9f8ffc6427d2"
      },
      "execution_count": 80,
      "outputs": [
        {
          "output_type": "execute_result",
          "data": {
            "text/plain": [
              "Index(['Eukaryotic lineages', 'Latitude', 'Longitude', 'Temperature',\n",
              "       'Salinity', 'Oxygen', 'Chlorophyll', 'Carbon export', 'NO2', 'PO4',\n",
              "       'NO2NO3', 'NPP'],\n",
              "      dtype='object')"
            ]
          },
          "metadata": {},
          "execution_count": 80
        }
      ]
    },
    {
      "cell_type": "code",
      "source": [
        "# make Eukaryotic lineages as row name\n",
        "euk_2 = euk.set_index('Eukaryotic lineages')\n",
        "\n",
        "# sort df\n",
        "euk_sort = euk_2.sort_values(by='Temperature')\n",
        "\n",
        "# plot\n",
        "px.imshow(euk_sort, aspect = 3)"
      ],
      "metadata": {
        "colab": {
          "base_uri": "https://localhost:8080/",
          "height": 542
        },
        "id": "9kTqbz5zbtY1",
        "outputId": "12eaf21b-ed7e-456b-f1d8-71ca43f77835"
      },
      "execution_count": 86,
      "outputs": [
        {
          "output_type": "display_data",
          "data": {
            "text/html": [
              "<html>\n",
              "<head><meta charset=\"utf-8\" /></head>\n",
              "<body>\n",
              "    <div>            <script src=\"https://cdnjs.cloudflare.com/ajax/libs/mathjax/2.7.5/MathJax.js?config=TeX-AMS-MML_SVG\"></script><script type=\"text/javascript\">if (window.MathJax) {MathJax.Hub.Config({SVG: {font: \"STIX-Web\"}});}</script>                <script type=\"text/javascript\">window.PlotlyConfig = {MathJaxConfig: 'local'};</script>\n",
              "        <script src=\"https://cdn.plot.ly/plotly-2.8.3.min.js\"></script>                <div id=\"da3079f8-5da4-4197-84ae-2e1e1ea28e72\" class=\"plotly-graph-div\" style=\"height:525px; width:100%;\"></div>            <script type=\"text/javascript\">                                    window.PLOTLYENV=window.PLOTLYENV || {};                                    if (document.getElementById(\"da3079f8-5da4-4197-84ae-2e1e1ea28e72\")) {                    Plotly.newPlot(                        \"da3079f8-5da4-4197-84ae-2e1e1ea28e72\",                        [{\"coloraxis\":\"coloraxis\",\"name\":\"0\",\"x\":[\"Latitude\",\"Longitude\",\"Temperature\",\"Salinity\",\"Oxygen\",\"Chlorophyll\",\"Carbon export\",\"NO2\",\"PO4\",\"NO2NO3\",\"NPP\"],\"y\":[\"Metazoa_Copepoda\",\"Bicoecea_Bicoecea_XXX+sp.\",\"MAST-4-6-7-8-9-10-11_MAST-8_X+sp.\",\"MALV-II_MALV-II-Clade-7_X+sp.\",\"Metazoa_Parasagitta+megalophthalma\",\"MALV-II_MALV-II-Clade-25_X+sp.\",\"Ciliophora_Xystonella+longicauda\",\"Haptophyta_Prymnesium+palpebrale\",\"RAD-B_RAD-B-Group-IV_X+sp.\",\"Metazoa_Metridia\",\"Dinophyceae_Abedinium_dasypus\",\"Dinophyceae_Peridinium_06_wierzejskii\",\"Ciliophora_Oligotrichia\",\"Foraminifera_Rotaliida\",\"Dinophyceae_Blastodinium_03_sp.\",\"Ciliophora_Undella+hyalina\",\"Ciliophora_Strombidiidae\",\"Ciliophora_Amphorides+quadrilineata\",\"Basidiomycota_Rhodosporidium+toruloides\",\"Collodaria_Collozoum+serpentinum\",\"Ascomycota_Hortaea+werneckii\",\"Basidiomycota_Rhodosporidium+sphaerocarpum\",\"Telonemia_Telonemia-Group-1_X+sp.\",\"Collodaria_Collozoum+amoeboides\",\"Ciliophora_Scuticociliatia\",\"Bolidophyceae-and-relatives_Bolidomonas+mediterranea\",\"Metazoa_Metridia+gerlachei\",\"Basidiomycota_Microbotryomycetes_X+sp.\",\"Dinophyceae_Peridinium_05_sociale\",\"Basidiomycota_Microbotryomycetes\",\"Dinophyceae_Heterocapsa_01_rotundata\",\"Metazoa_Acartia+negligens\",\"Trebouxiophyceae_Watanabea-Clade_X\",\"Metazoa_Pantachogon+haeckeli\",\"Collodaria_Siphonosphaera+cyathina\",\"Discosea_Vannella+sp.\",\"Dictyochophyceae_Dictyocha+fibula\",\"Metazoa_Thysanoessa\",\"Basidiomycota_Psathyrella+candolleana\",\"Ciliophora_Mesodiniidae\",\"Metazoa_Cyclopoida\",\"MALV-II_MALV-II-Clade-5_X+sp.\",\"Pelagophyceae_Aureococcus+anophagefferens\",\"Entomophthoromycota_Pandora\",\"MAST-4-6-7-8-9-10-11_MAST-7A+sp.\",\"Syndiniales_X_Syndiniales_XXX+sp.\",\"Lobosa_X_Acanthamoeba\",\"Streptophyta_Rehmannia+glutinosa\",\"Pyramimonadales_Pyramimonas+disomata\",\"Choanoflagellida_Acanthoecidae_Group_G_X+sp.\",\"Metazoa_Gaetanus+variabilis\",\"Ciliophora_Omegastrombidium+elegans\",\"Dictyochophyceae_Pedinella+sp.\",\"Pelagophyceae_Coccoid+pelagophyte\",\"Pyramimonadales_Pyramimonas+sp.\",\"Chrysophyceae-Synurophyceae_Clade-C\",\"Pyramimonadales_Pyramimonas+parkeae\",\"Metazoa_Calliopaea+bellula\",\"Ciliophora_Tintinnidium+mucicola\",\"Mamiellophyceae_Micromonas\",\"Euglyphida_Paulinella+sp.\",\"Cryptophyta_Cryptophyta+sp.\",\"Ciliophora_Choreotrichia-1_X+sp.\",\"Ascomycota_Erysiphe\",\"Cryptophyta_Proteomonas+sulcata\",\"Haptophyta_Phaeocystis+cordata\",\"Mamiellophyceae_Dolichomastix+tenuilepis\",\"Choanoflagellida_Calliacantha+sp.\",\"Ciliophora_Oligotrichia_XX+sp.\",\"Metazoa_Nephasoma+pellucidum\",\"Ascomycota_Candida+stellata\",\"Other_Chlorophyta_Chlorodendrales_X\",\"Ascomycota_Saccharomycetales_X+sp.\",\"Metazoa_Anthozoa\",\"Heterolobosea_Naegleria+sp.\",\"Chlorarachnea_Bigelowiella+longifila\",\"Streptophyta_Embryophyceae_XX\",\"Dinophyceae_Dinophysiaceae\",\"Foraminifera_Hastigerina+pelagica\",\"Other_Incertae_Sedis_Eukaryota_Bigelowiella-nucleomorph+natans\",\"Bacillariophyta_Thalassiosira+punctigera\",\"Streptophyta_Orontium+aquaticum\",\"Choanoflagellida_Monosigidae_Group_B_X+sp.\",\"Haptophyta_Chrysochromulina+parva\",\"Pyramimonadales_Pyramimonadales_XX\",\"Metazoa_Diadumene\",\"Bacillariophyta_Thalassiosira\",\"Pyramimonadales_Cymbomonas+tetramitiformis\",\"Collodaria_Sphaerozoum+punctatum\",\"Other_Chlorophyta_Pycnococcaceae\",\"Bacillariophyta_Guinardia+flaccida\",\"Metazoa_Phyllaplysia+lafonti\",\"Chrysophyceae-Synurophyceae_Paraphysomonas+bandaiensis\",\"Bacillariophyta_Polar-centric-Mediophyceae\",\"Jakobida_Jakoba+libera\",\"Dinophyceae_SymbiodiniumCladeD_sp.\",\"Metazoa_Calanoida\",\"Haptophyta_Phaeocystis\",\"Katablepharidophyta_Leucocryptos+marina\",\"Bacillariophyta_Opephora+guenter-grassii\",\"Bacillariophyta_Pseudo-nitzschia\",\"Bacillariophyta_Cylindrotheca+closterium\",\"Dinophyceae_Pfiesteriaceae\",\"Dinophyceae_Protoperidinium_02\",\"Labyrinthulea_Aplanochytrium+sp.\",\"Bacillariophyta_Fragilariopsis\",\"Bacillariophyta_Bacillariophyta_X\",\"Metazoa_Eucestoda\",\"Bacillariophyta_Thalassiosira+sp.\",\"Bacillariophyta_Actinocyclus+curvatulus\",\"Bacillariophyta_Raphid-pennate_X+sp.\",\"Ciliophora_Vampyrophrya+pelagica\",\"Bacillariophyta_Planktoniella+sol\",\"Foraminifera_Neogloboquadrina+dutertrei\",\"Dinophyceae_Kareniaceae_15\",\"Metazoa_Rhinebothrium+maccallumi\",\"Other_Mycota_Mucoromycotina_X\",\"Foraminifera_Globigerinella+aequilateralis\",\"Metazoa_Candacia+truncata\",\"Foraminifera_Globigerina+bulloides\",\"Bacillariophyta_Grammatophora\",\"Bacillariophyta_Thalassiosira+weissflogii\",\"Bacillariophyta_Pseudohimantidium+pacificum\",\"Prasino-Clade-7_Prasino-Clade-7B1_X+sp.\",\"Metazoa_Centropages+furcatus\",\"Ciliophora_Strombidinopsis+acuminata\",\"Metazoa_Oikopleura+dioica\",\"Other_MAST_MAST-2C_X+sp.\",\"Metazoa_Nanomia+bijuga\",\"Ciliophora_Laboea+strobila\",\"Ciliophora_Laboea\",\"Ciliophora_Tintinnidae\",\"Kinetoplastida_Bodonidae+sp.\",\"Dinophyceae_Gyrodinium_05\",\"Heterolobosea_Tetramitus+sp.\",\"Kinetoplastida_Neobodonid_X+sp.\",\"MALV-II_MALV-II-Clade-4_X+sp.\",\"Bacillariophyta_Haslea+spicula\",\"Bacillariophyta_Pleurosigma+sp.\",\"Bacillariophyta_Rhizosolenia+shrubsolei\",\"Bacillariophyta_Raphid-pennate\",\"Picozoa_Picobiliphyta_XXXX+sp.\",\"Ciliophora_Zoothamnium+alternans\",\"Haptophyta_Prymnesium+pigrum\",\"Mamiellophyceae_Crustomastix+sp.\",\"Pirsonia_Pirsonia+verrucosa\",\"Metazoa_Subeucalanus+mucronatus\",\"Bacillariophyta_Lithodesmium+undulatum\",\"Haptophyta_Prymnesiales_XX+sp.\",\"Oomyceta_Oomyceta_XXX+sp.\",\"MAST-3-12_MAST-3A+sp.\",\"Collodaria_Collodaria\",\"RAD-B_Sticholonche_X+sp.\",\"Bacillariophyta_Pseudo-nitzschia+multiseries\",\"Bicoecea_Bicoecaceae_X+sp.\",\"Other_Cercozoa_he2-lineage_X_he2-lineage_X+sp.\",\"Metazoa_Lilyopsis\",\"Ciliophora_Spirotontonia+turbinata\",\"Dinophyceae_Gymnodiniales_XX+sp.\",\"Dinophyceae_Fragilidium_mexicanum\",\"Other_Cercozoa_Marimonadida_XX+sp.\",\"Acantharea_Amphibelone+anomala\",\"Bacillariophyta_Rhizosolenia\",\"MAST-4-6-7-8-9-10-11_MAST-7D+sp.\",\"Ciliophora_Spirotontonia+taiwanica\",\"Bacillariophyta_Pseudo-nitzschia+fraudulenta\",\"Labyrinthulea_Thraustochytrium+sp.\",\"Other_Cercozoa_Protaspa+sp.\",\"MAST-3-12_MAST-3\",\"Other_Cercozoa_Cryothecomonas-lineage\",\"MAST-4-6-7-8-9-10-11_MAST-7_X+sp.\",\"Dinophyceae_Karlodinium_06_micrum\",\"Dinophyceae_Protodinium\",\"Metazoa_Megalocercus+huxleyi\",\"Chlorarachnea_Chlorarachnida_XX+sp.\",\"Dinophyceae_Protodinium_simplex\",\"Metazoa_Lestrigonus+bengalensis\",\"Mesomycetozoa_Abeoformidae_Group_MAIP_1_X+sp.\",\"Ciliophora_Uronema+marinum\",\"MALV-II_Amoebophrya+ceratii\",\"Ciliophora_Mesodinium+chamaeleon\",\"Metazoa_Creseis+clava\",\"Metazoa_Pecten+jacobaeus\",\"MALV-II_Amoebophrya+sp.\",\"MAST-4-6-7-8-9-10-11_MAST-11_X+sp.\",\"Dictyochophyceae_Florenciellales_X+sp.\",\"Metazoa_Oithona+sp.\",\"Metazoa_Pelagia+noctiluca\",\"Dinophyceae_Gonyaulax_02_spinifera\",\"Dinophyceae_Alexandrium_02_tamarense\",\"Dinophyceae_Noctiluca_scintillans\",\"Dinophyceae_Amphidinium_01\",\"Mamiellophyceae_Mamiellales_XX+sp.\",\"Dinophyceae_Stoeckeria_02_sp.\",\"MAST-4-6-7-8-9-10-11_MAST-4\",\"Metazoa_Acartia+longiremis\",\"Dinophyceae_Gonyaulax_04_sp.\",\"MAST-4-6-7-8-9-10-11_MAST-4C+sp.\"],\"z\":[[-0.138109822,-0.083613561,-0.39188867,0.182430254,0.34443529,-0.139734578,-0.452224859,-0.263603954,-0.347963898,-0.268555212,-0.330036202],[-0.119509099,-0.065940658,-0.369800192,0.183584008,0.331645328,-0.141619308,-0.426481305,-0.258448079,-0.33923021,-0.26260651,-0.308634124],[-0.273671594,-0.251967933,-0.363532653,0.015331636,0.230375556,0.001727025,-0.422924897,-0.113970929,-0.176386995,-0.125477523,-0.343833516],[-0.2031575,-0.168212379,-0.360016224,0.086940447,0.269708556,-0.059533655,-0.417238503,-0.173743454,-0.242941289,-0.181915193,-0.322939858],[-0.133333351,-0.086385745,-0.351223746,0.153397708,0.302843175,-0.116612516,-0.405523678,-0.22768035,-0.302246779,-0.232571664,-0.29826279],[-0.177223906,-0.139708937,-0.347713111,0.104048887,0.27212157,-0.074636837,-0.402533435,-0.184840395,-0.253740141,-0.191830841,-0.306987859],[-0.033013796,0.023654965,-0.302578958,0.218696684,0.311025447,-0.174326606,-0.347434045,-0.269566388,-0.342712813,-0.269892395,-0.235765025],[0.045626979,0.117831161,-0.302332961,0.301639084,0.358915443,-0.245127134,-0.345303464,-0.339862034,-0.42150404,-0.336453759,-0.215223627],[-0.332692977,-0.336172564,-0.298983496,-0.101174029,0.123567049,0.098533333,-0.350359895,0.002793664,-0.036828734,-0.011781312,-0.310638918],[-0.187417969,-0.162988162,-0.294749637,0.048879793,0.20789794,-0.029708608,-0.34209402,-0.123328227,-0.177686192,-0.131020287,-0.26985417],[-0.230047037,-0.214417084,-0.293071136,0.00240035,0.17995456,0.009892737,-0.341173156,-0.083431342,-0.132724564,-0.093155095,-0.279628521],[-0.24746355,-0.238053589,-0.279821532,-0.027119497,0.154783987,0.034547765,-0.326402822,-0.054708428,-0.098746,-0.065313822,-0.274187215],[-0.104793881,-0.067341406,-0.278696668,0.122785412,0.240922897,-0.093440401,-0.321760103,-0.181567454,-0.240845565,-0.185400919,-0.23641155],[-0.131616254,-0.101438628,-0.269321485,0.086567846,0.214233667,-0.062911072,-0.311649726,-0.148238596,-0.202220096,-0.15338456,-0.236314476],[-0.084187017,-0.045589288,-0.264628113,0.132782101,0.238141155,-0.10254571,-0.305157631,-0.186140842,-0.244093443,-0.189053271,-0.220512664],[-0.076492689,-0.036653958,-0.263268517,0.139777951,0.241364738,-0.108571995,-0.303419089,-0.19169815,-0.250143259,-0.194250694,-0.217499961],[-0.201570959,-0.186713411,-0.26235744,0.006766406,0.163769921,0.004914899,-0.305315726,-0.078605121,-0.123207703,-0.087102393,-0.249193107],[0.034506084,0.094562724,-0.254736936,0.249988692,0.300000144,-0.202983381,-0.291035203,-0.282825657,-0.351186296,-0.280140985,-0.182360496],[-0.222434741,-0.213920745,-0.251786958,-0.024152839,0.139421175,0.030873461,-0.293695843,-0.049439108,-0.089090366,-0.058970762,-0.246656013],[-0.172502655,-0.154195114,-0.25129331,0.028227681,0.169458972,-0.0138529,-0.291956439,-0.093738882,-0.138698731,-0.100900881,-0.233360072],[-0.316315426,-0.327353497,-0.247265118,-0.127204825,0.076978815,0.11864305,-0.290722291,0.039240631,0.010952619,0.025231255,-0.267561991],[-0.174427438,-0.157651844,-0.245786433,0.021577044,0.162251687,-0.00840103,-0.285692583,-0.086567401,-0.129921151,-0.093843429,-0.22972297],[-0.242103362,-0.239775115,-0.240837933,-0.054125686,0.115389939,0.056008859,-0.281614175,-0.020970835,-0.055704827,-0.031481659,-0.243525281],[-0.125358618,-0.100127354,-0.239707767,0.0683638,0.185646724,-0.048580736,-0.277574844,-0.124570587,-0.17172253,-0.129540889,-0.212456468],[-0.234761757,-0.231354534,-0.239037406,-0.047872339,0.117914814,0.050598326,-0.279378759,-0.025775783,-0.060852071,-0.035945285,-0.240272768],[0.0819937,0.147468512,-0.235618774,0.284174711,0.3081521,-0.232939789,-0.268015578,-0.306517565,-0.37519729,-0.3016558,-0.155711396],[-0.185757447,-0.173587929,-0.234487674,0.000127666,0.142944118,0.009445422,-0.273014202,-0.065232858,-0.104488082,-0.073093422,-0.224171105],[-0.212959452,-0.206435379,-0.233272159,-0.029652366,0.124955056,0.034812853,-0.2722611,-0.03963146,-0.075618189,-0.048789059,-0.230299737],[-0.156190581,-0.138441166,-0.23314579,0.030264664,0.159581745,-0.016330879,-0.270781756,-0.090426818,-0.132559289,-0.096888519,-0.215509856],[-0.171055242,-0.15636468,-0.232606628,0.014096047,0.149888448,-0.002553095,-0.270513499,-0.076560472,-0.116938577,-0.08373043,-0.218952789],[-0.126022946,-0.103425974,-0.22772843,0.057621056,0.172125725,-0.039900019,-0.263866004,-0.112129972,-0.156171459,-0.117181004,-0.203632648],[-0.228416839,-0.226445658,-0.226143799,-0.051970342,0.107685367,0.05357057,-0.264457681,-0.018718295,-0.051215025,-0.028639354,-0.228947997],[-0.163010786,-0.149913418,-0.217348355,0.009813086,0.138111116,0.000480658,-0.252843323,-0.068689335,-0.106073112,-0.075539831,-0.205412355],[0.126874255,0.196786643,-0.214280204,0.313743221,0.31227675,-0.259045671,-0.242513369,-0.325675545,-0.393827512,-0.318769631,-0.128069752],[-0.185019366,-0.177740695,-0.210376318,-0.019300585,0.117000636,0.025044803,-0.245373011,-0.042054476,-0.075274975,-0.049978959,-0.205873822],[-0.199115935,-0.194879651,-0.209187255,-0.035201789,0.107066247,0.038567871,-0.244342121,-0.028234491,-0.059619385,-0.036833417,-0.208629893],[-0.113456087,-0.092286888,-0.208971394,0.055187283,0.159287685,-0.038587089,-0.242081056,-0.104855872,-0.14550783,-0.109386999,-0.186294193],[-0.134879499,-0.118801211,-0.204927887,0.029146834,0.141741516,-0.016526583,-0.237952139,-0.081641517,-0.118936602,-0.087206815,-0.188803342],[0.082286221,0.141385822,-0.204824912,0.258674498,0.274620203,-0.212430333,-0.232728863,-0.276332109,-0.337233826,-0.271582858,-0.132511276],[-0.161435152,-0.150814937,-0.203996051,0.000287966,0.12445883,0.008066202,-0.237508847,-0.056900373,-0.091069247,-0.063730841,-0.194977689],[-0.140203971,-0.125754528,-0.202182611,0.021216236,0.135475488,-0.009869756,-0.23493211,-0.074151166,-0.110170575,-0.079980636,-0.188120073],[-0.306848564,-0.326178126,-0.198594482,-0.157988011,0.029494966,0.142933067,-0.23473888,0.078872822,0.061898282,0.065113311,-0.228562618],[-0.143796645,-0.131217833,-0.196636939,0.012769588,0.127204323,-0.002886589,-0.228663017,-0.065445268,-0.099667233,-0.071468148,-0.184885583],[0.099876982,0.158975693,-0.188131579,0.263282273,0.267117984,-0.217043205,-0.213190149,-0.275604842,-0.334187139,-0.270088589,-0.115422073],[-0.179324091,-0.17620314,-0.185071147,-0.034488071,0.09278601,0.036976091,-0.216247555,-0.022142175,-0.049564638,-0.029900022,-0.185396853],[0.143276576,0.210247563,-0.184638999,0.30624233,0.289872281,-0.25385149,-0.208168507,-0.311079895,-0.373499314,-0.303516578,-0.101565086],[-0.316091554,-0.340459729,-0.183245258,-0.180625589,0.007031304,0.161628596,-0.217370909,0.102340311,0.090264447,0.088078766,-0.219428851],[0.182510951,0.256950428,-0.183165321,0.34649053,0.312285972,-0.288262971,-0.205557795,-0.344815064,-0.411130358,-0.335394236,-0.09030237],[0.183001878,0.2574877,-0.182921396,0.346805156,0.312319582,-0.28854144,-0.205266795,-0.345014231,-0.411321085,-0.335571085,-0.089992117],[0.169037894,0.240311917,-0.180795619,0.330259041,0.301440936,-0.274506114,-0.203159615,-0.330386982,-0.394635094,-0.321615827,-0.092010448],[0.105083075,0.163023886,-0.177649809,0.260001618,0.258831442,-0.214670287,-0.201059031,-0.269910592,-0.326401082,-0.264190086,-0.106203243],[0.086346652,0.140507938,-0.177334286,0.239926744,0.247011917,-0.197549441,-0.201138013,-0.252792495,-0.307163998,-0.24796323,-0.110816346],[0.160200002,0.228742194,-0.176103979,0.316982307,0.290892557,-0.263365719,-0.197992277,-0.317820685,-0.379917147,-0.309488573,-0.090775045],[0.145815709,0.211178652,-0.174532766,0.300456593,0.280363616,-0.249325209,-0.196530331,-0.303364765,-0.36349739,-0.295722329,-0.093318622],[0.20173548,0.277718384,-0.172314185,0.357722289,0.312179908,-0.298291303,-0.192673947,-0.351329798,-0.416985143,-0.341040384,-0.077177406],[0.155269386,0.221780759,-0.171060895,0.307542262,0.28235224,-0.25551422,-0.192330441,-0.308411625,-0.368692509,-0.30033441,-0.088264304],[0.176977125,0.247564292,-0.169975561,0.32958466,0.294457823,-0.274371408,-0.190576676,-0.326809805,-0.389177744,-0.317705967,-0.081830094],[0.094639955,0.148638573,-0.168687445,0.241448187,0.242624727,-0.199200299,-0.191036556,-0.251681709,-0.304762735,-0.246494023,-0.102176298],[0.140026609,0.20297473,-0.168466047,0.289250907,0.270176961,-0.240008461,-0.189715921,-0.292173532,-0.350137546,-0.284830973,-0.090261415],[-0.119999906,-0.108729487,-0.167797099,0.013758628,0.110205446,-0.004905827,-0.195062427,-0.058274593,-0.087771937,-0.06328556,-0.157068603],[0.160429888,0.226041608,-0.161858527,0.305285719,0.275438381,-0.253963241,-0.181666177,-0.303941508,-0.362450101,-0.295656954,-0.080018032],[-0.084260848,-0.067188656,-0.161661466,0.046403793,0.125375025,-0.033018148,-0.187192787,-0.084264976,-0.116095472,-0.08760359,-0.143209815],[-0.256930303,-0.274417738,-0.160052749,-0.137511648,0.017871829,0.123886284,-0.189408964,0.072205997,0.059574004,0.060659297,-0.186698357],[0.152215774,0.21523952,-0.157263685,0.292749649,0.265377969,-0.243451051,-0.176595074,-0.292030435,-0.348479809,-0.284154898,-0.078693849],[0.20066795,0.273292174,-0.157249934,0.343967648,0.295034834,-0.287165659,-0.175440268,-0.335477271,-0.397195897,-0.325300401,-0.066141367],[0.12020292,0.176754481,-0.156655052,0.258391654,0.245107135,-0.214151647,-0.17665036,-0.262713884,-0.315525146,-0.256361397,-0.086523534],[0.174374384,0.241645184,-0.15657037,0.315597329,0.278188819,-0.262979566,-0.175279837,-0.311220649,-0.369905566,-0.302295465,-0.072437312],[0.161336515,0.226013717,-0.1565251,0.301774167,0.270154921,-0.251183481,-0.175534476,-0.299481233,-0.356735842,-0.29117551,-0.075778252],[-0.089341946,-0.074531144,-0.155657465,0.03599926,0.115690608,-0.024382622,-0.180433589,-0.073770819,-0.103525657,-0.077375423,-0.140016435],[0.092883846,0.143753332,-0.155375263,0.228433972,0.226976017,-0.188635213,-0.175826372,-0.236943925,-0.286457652,-0.231894298,-0.092634204],[0.145796132,0.204586683,-0.143091147,0.274083483,0.24593147,-0.228097137,-0.160508832,-0.272258885,-0.324415258,-0.264746448,-0.069712863],[0.184526358,0.25096784,-0.142969069,0.314931463,0.269516063,-0.262965452,-0.15945847,-0.306878257,-0.36321843,-0.297526706,-0.059595623],[0.085789871,0.129248923,-0.126633941,0.196844169,0.191167641,-0.162844721,-0.143064854,-0.202162436,-0.24361489,-0.197567743,-0.072887464],[0.136562845,0.186781538,-0.110820064,0.237273315,0.204948846,-0.19799494,-0.123753639,-0.232068388,-0.275035473,-0.225126988,-0.047869253],[-0.100436207,-0.097224465,-0.110661606,-0.013443674,0.059638105,0.015983034,-0.129143653,-0.01932928,-0.036465095,-0.023645549,-0.109098983],[0.209338938,0.273235671,-0.10724737,0.311226628,0.245605489,-0.261258921,-0.117949607,-0.293814238,-0.343794982,-0.283430773,-0.02634781],[0.143312074,0.192407783,-0.099041388,0.234537265,0.196187548,-0.19613968,-0.110100407,-0.226475961,-0.267190251,-0.219262336,-0.037277071],[0.18003858,0.235457364,-0.094464252,0.269532716,0.213667975,-0.226194444,-0.103993091,-0.254893046,-0.298443207,-0.245953769,-0.024333018],[-0.385128893,-0.443077188,-0.088005179,-0.333444562,-0.139509278,0.288177422,-0.109879469,0.258435031,0.27802654,0.240503379,-0.16577985],[0.218796105,0.280449842,-0.087538378,0.304707041,0.22982095,-0.256497577,-0.09514713,-0.282809561,-0.328820936,-0.272057803,-0.009099455],[-0.35743719,-0.410646,-0.084419525,-0.307170803,-0.126476321,0.265606933,-0.105120468,0.237141605,0.254628986,0.220510539,-0.155919058],[0.260513785,0.326234559,-0.06742689,0.331959838,0.233351994,-0.280577025,-0.071125118,-0.300343812,-0.345794442,-0.287693099,0.016801991],[0.237264354,0.296669002,-0.059251045,0.300525232,0.210163774,-0.254081035,-0.062304801,-0.271405658,-0.312252671,-0.259892812,0.016923311],[0.257982775,0.320778004,-0.0558244,0.319559261,0.219100393,-0.270466009,-0.057891906,-0.28660144,-0.328834051,-0.274118574,0.024859618],[0.14869845,0.189713057,-0.055249154,0.203528466,0.15154537,-0.171458331,-0.059802,-0.188007257,-0.218201265,-0.180717556,-0.002997354],[0.212180152,0.262109595,-0.037694304,0.255935647,0.171203449,-0.216902618,-0.038197425,-0.22759122,-0.26024133,-0.217358318,0.026617963],[-0.407812112,-0.480953942,-0.036798487,-0.400346283,-0.209458011,0.343190912,-0.051746364,0.329412628,0.364459483,0.310193362,-0.1331983],[0.255620242,0.313468391,-0.034385555,0.299092596,0.19418379,-0.253871459,-0.033385441,-0.263284362,-0.299822622,-0.251001718,0.040347386],[-0.290778174,-0.34287343,-0.026507685,-0.285228902,-0.14905257,0.244520078,-0.037205098,0.234611178,0.259531902,0.220908564,-0.095175522],[0.242448658,0.295114989,-0.02207806,0.274850621,0.172644153,-0.233682655,-0.019594669,-0.23930057,-0.271284065,-0.227694075,0.04618005],[0.236561633,0.286243137,-0.013375792,0.261332443,0.159512309,-0.222499607,-0.009763072,-0.225415568,-0.254551374,-0.214124418,0.051191052],[0.174333774,0.20869525,0.000918783,0.183556769,0.105755483,-0.156701294,0.005151002,-0.155464728,-0.174203333,-0.147187967,0.045817367],[-0.322753922,-0.387238841,0.00246146,-0.343317683,-0.200347849,0.292917898,-0.004767509,0.29193628,0.327683781,0.276595958,-0.081698507],[-0.330658157,-0.398763202,0.012290923,-0.359913445,-0.215949002,0.306681705,0.006308068,0.3087452,0.347845784,0.292989092,-0.076363214],[-0.265139512,-0.321421019,0.017855161,-0.295302776,-0.181916997,0.251310429,0.014223154,0.255478271,0.288860067,0.242811337,-0.055224874],[0.248716007,0.293640321,0.020926889,0.245433148,0.129403345,-0.210327407,0.029822476,-0.202400516,-0.224159268,-0.190672868,0.080096608],[-0.421196071,-0.509427193,0.02273181,-0.464392025,-0.282824034,0.395427701,0.016141523,0.400279089,0.451880317,0.380179737,-0.091959035],[-0.316448209,-0.384610442,0.026046219,-0.356417796,-0.222305253,0.303137733,0.02240126,0.30959995,0.350642732,0.294462323,-0.062355451],[-0.409993204,-0.496848872,0.026776512,-0.455937012,-0.28039131,0.388046627,0.021038813,0.394229641,0.445637537,0.374645801,-0.086021764],[-0.319176365,-0.388615519,0.029570164,-0.362255887,-0.227833742,0.307976899,0.02637443,0.315531389,0.35776479,0.300249714,-0.060415374],[-0.304830433,-0.371963136,0.032140401,-0.349241838,-0.221862073,0.296764813,0.029656349,0.30520479,0.346528871,0.29059397,-0.054771739],[-0.296288879,-0.363090101,0.038657414,-0.345672825,-0.223765643,0.293453155,0.037323545,0.303987005,0.346034387,0.28975514,-0.047666806],[-0.324009499,-0.397031774,0.042136165,-0.377898105,-0.244549942,0.320815363,0.040657395,0.332291395,0.378237703,0.316728571,-0.052230126],[-0.29495319,-0.362326347,0.042662327,-0.347617242,-0.227331981,0.294949513,0.041943285,0.306748836,0.349666577,0.292563973,-0.044313597],[-0.279963273,-0.346730994,0.053985815,-0.341258726,-0.230548404,0.289061199,0.055268746,0.304499492,0.348657803,0.29098014,-0.03193008],[-0.313642984,-0.387594139,0.05641759,-0.378907169,-0.253835867,0.321094682,0.057263007,0.337113829,0.385554026,0.321984771,-0.038822168],[-0.374179256,-0.461891372,0.064854228,-0.449984533,-0.300143898,0.38141474,0.065505541,0.399755242,0.456922885,0.38171619,-0.048156945],[-0.185383812,-0.236050345,0.066645319,-0.251868244,-0.186487089,0.212251499,0.071995903,0.232181251,0.269257751,0.223102282,0.00205897],[-0.280376705,-0.350929864,0.071713403,-0.356554018,-0.250208551,0.301393252,0.075569126,0.322398718,0.371098034,0.308786957,-0.018724714],[-0.48505847,-0.597596342,0.078492544,-0.57865029,-0.382976189,0.490673967,0.078524019,0.512696287,0.585389106,0.48933469,-0.066617159],[-0.369208891,-0.461366411,0.090848716,-0.466516223,-0.325557072,0.394465206,0.09540369,0.42099934,0.484218728,0.403089663,-0.027349987],[-0.314319216,-0.396715437,0.096200177,-0.412965455,-0.297801272,0.348542114,0.102825128,0.377055955,0.435659273,0.361731468,-0.009122807],[-0.410200974,-0.512011134,0.09816234,-0.515987856,-0.35866692,0.436390748,0.102819071,0.464999692,0.534534843,0.445112944,-0.032468944],[-0.267556393,-0.341543947,0.100316036,-0.366971777,-0.273669671,0.309119269,0.108639912,0.339180442,0.393738714,0.326060208,0.00607282],[-0.245249069,-0.315723952,0.10466573,-0.347031409,-0.264770505,0.291923133,0.114147677,0.323472128,0.376705993,0.311393595,0.015113581],[-0.251557493,-0.324089627,0.108528159,-0.356938688,-0.272862084,0.300221518,0.118424472,0.33294966,0.387849607,0.320555633,0.016381064],[0.291462945,0.326056483,0.110933157,0.215192741,0.057048628,-0.1881849,0.133945568,-0.151748593,-0.155332119,-0.138360021,0.158751397],[-0.24293955,-0.314473324,0.111925476,-0.350674173,-0.271303643,0.294736391,0.122519299,0.328578715,0.383402444,0.316580079,0.021163061],[0.17971697,0.19134055,0.114865961,0.093745095,-0.015689527,-0.0846908,0.135824282,-0.047626539,-0.038052044,-0.039561839,0.132778542],[-0.243738251,-0.3168477,0.118710032,-0.357205049,-0.279220037,0.300033986,0.130273436,0.33600345,0.392634773,0.323939027,0.026051119],[-0.285433743,-0.367506332,0.122055859,-0.404094851,-0.308416974,0.339917633,0.133126465,0.376711531,0.438728865,0.362652914,0.017770495],[-0.249848819,-0.324917688,0.122291878,-0.366667965,-0.286883288,0.307964545,0.134233425,0.345026081,0.403230795,0.332656714,0.027159118],[-0.272064118,-0.352988902,0.129245945,-0.395985144,-0.30810069,0.332703114,0.141678289,0.371828594,0.434214524,0.358375495,0.026630645],[-0.402446953,-0.509707544,0.131608578,-0.535821921,-0.390533066,0.45195613,0.141319964,0.491114934,0.568288792,0.471459191,-0.005345587],[-0.237939073,-0.312665812,0.131953464,-0.362173275,-0.290166656,0.303734704,0.145582471,0.343896347,0.403255339,0.332053009,0.037497321],[-0.223668786,-0.296692327,0.13733953,-0.351599261,-0.287323891,0.294490429,0.152088643,0.336421789,0.395593834,0.325234154,0.045235898],[-0.204335021,-0.275019808,0.1444873,-0.337148073,-0.283308865,0.281865244,0.160732196,0.326147321,0.385028192,0.315848662,0.055608126],[0.37866674,0.423276968,0.145719852,0.278239137,0.072369764,-0.243411776,0.175849959,-0.195572486,-0.19982335,-0.178184693,0.207447442],[-0.230267369,-0.306614151,0.146986605,-0.366661664,-0.301925802,0.306952961,0.162985957,0.351879233,0.41421602,0.340338576,0.050772205],[-0.152857542,-0.214064403,0.147957899,-0.285628673,-0.255583641,0.237752541,0.165918556,0.283404866,0.337563976,0.275537046,0.07153962],[-0.215709954,-0.289920423,0.15057189,-0.354274759,-0.296935826,0.296234777,0.167435764,0.34236658,0.404028466,0.331502656,0.057232825],[-0.299516395,-0.391468485,0.15598547,-0.447422432,-0.354184976,0.3755148,0.171667794,0.422891685,0.495046661,0.408024886,0.039604274],[-0.277031965,-0.364742772,0.157015534,-0.424512498,-0.341543246,0.35591943,0.173376498,0.403742183,0.473711566,0.389939125,0.046198032],[-0.137027415,-0.198705962,0.165234415,-0.283371241,-0.264802494,0.235121901,0.186084019,0.286288008,0.343106042,0.27910117,0.088611007],[0.202123314,0.206224699,0.1721304,0.069440309,-0.064657203,-0.066280193,0.201957612,-0.011103513,0.010555866,-0.002209624,0.18158083],[-0.123813355,-0.184625703,0.173624876,-0.276432095,-0.265895565,0.228857534,0.196007429,0.282731495,0.34023949,0.276137858,0.0983323],[0.165352331,0.161797685,0.173891549,0.029085474,-0.089103593,-0.031909507,0.203110881,0.02362053,0.049728116,0.030760636,0.173384946],[-0.340346725,-0.446056446,0.183101998,-0.513320604,-0.408874646,0.430653342,0.201774722,0.486327332,0.569802818,0.469409855,0.049398017],[-0.258163944,-0.348705724,0.18846746,-0.430923986,-0.364419985,0.360110037,0.209853828,0.417916534,0.493809368,0.404880562,0.074700706],[0.43821865,0.483903076,0.197077279,0.298160044,0.05261648,-0.262506669,0.236089005,-0.198208773,-0.195915183,-0.178203197,0.261429275],[-0.265486888,-0.3603322,0.202119685,-0.450109138,-0.383850059,0.375928101,0.225322723,0.437983857,0.518136033,0.424544016,0.083057142],[0.240622773,0.24561569,0.204388878,0.083109559,-0.076394688,-0.079261158,0.239820503,-0.013740599,0.011910424,-0.003150477,0.215770902],[0.257651573,0.265296929,0.207848311,0.098214993,-0.069753471,-0.092294452,0.244184224,-0.025594462,-0.000919204,-0.014209705,0.222776748],[0.472751099,0.521744712,0.213999464,0.320488819,0.055238751,-0.282253561,0.256288188,-0.212451511,-0.209624115,-0.190875173,0.283075797],[0.33865848,0.359504162,0.221516597,0.172409425,-0.03510828,-0.156175578,0.261748045,-0.084741003,-0.065414699,-0.069564675,0.254009992],[0.24345773,0.244560686,0.225698671,0.068246477,-0.09798709,-0.067443951,0.264301301,0.004786853,0.035533887,0.015424153,0.232507163],[-0.185767916,-0.27074167,0.230499932,-0.389607119,-0.366099253,0.323133861,0.259711431,0.39453921,0.47321379,0.384769373,0.125004823],[0.33691727,0.355357941,0.231376753,0.162304236,-0.046968822,-0.147952661,0.273003672,-0.073429819,-0.051413329,-0.058376671,0.260963673],[0.368493438,0.39256263,0.234392196,0.193163039,-0.030932806,-0.174413205,0.277200715,-0.098771321,-0.079426294,-0.082230741,0.271401789],[0.314819723,0.328215891,0.234558538,0.136273252,-0.063984473,-0.125865122,0.276129485,-0.050462822,-0.025234643,-0.036472328,0.257632916],[0.252765641,0.251634009,0.245225808,0.061721498,-0.113663951,-0.062670595,0.286891923,0.015745598,0.050432122,0.026744848,0.249580319],[-0.112303994,-0.185941422,0.245934324,-0.324868287,-0.338006769,0.267251032,0.279121314,0.343904804,0.418499199,0.33756101,0.15561176],[0.214323718,0.20523642,0.246835932,0.019726522,-0.138968286,-0.026893911,0.287832883,0.051819107,0.091097373,0.060985827,0.240838491],[-0.170328167,-0.258547752,0.260685123,-0.398581693,-0.389688716,0.32956365,0.294656897,0.410536136,0.495185979,0.401375748,0.151668822],[-0.108298384,-0.185115475,0.264954759,-0.336574817,-0.356376035,0.276467435,0.301006768,0.359118577,0.43810097,0.352886963,0.170931878],[0.28237377,0.282366725,0.267933159,0.073994917,-0.120390522,-0.074071064,0.313603277,0.011640016,0.048863443,0.023952384,0.274296473],[0.234361603,0.224510758,0.269501574,0.021916076,-0.151509975,-0.029686202,0.314271467,0.056256562,0.099102621,0.066282002,0.263046004],[0.24240825,0.233614874,0.272073947,0.028267965,-0.1493983,-0.03521229,0.317407744,0.051582382,0.094205172,0.061979463,0.267060632],[-0.184986069,-0.278882832,0.273953634,-0.425200648,-0.413190625,0.351742025,0.309513744,0.436803337,0.526413423,0.426892259,0.157838411],[0.35236652,0.364571406,0.275883034,0.14133666,-0.086230228,-0.131870489,0.324356714,-0.043281246,-0.011658458,-0.027676986,0.298384438],[-0.092062836,-0.16851253,0.27859946,-0.330844764,-0.361370745,0.271020928,0.317020873,0.358047062,0.438723169,0.352530594,0.18538093],[-0.200594199,-0.298948376,0.280481959,-0.447175094,-0.429895749,0.370230992,0.316626171,0.457258421,0.550222731,0.446579186,0.158700538],[0.2532316,0.244124588,0.283843785,0.029846978,-0.155654947,-0.037039532,0.331146627,0.053511682,0.097941666,0.064374537,0.278700789],[0.282507859,0.278425104,0.287569648,0.057678607,-0.141805106,-0.060945361,0.336103514,0.030935581,0.073124559,0.04317371,0.289077043],[0.190635059,0.168330421,0.287629236,-0.039510416,-0.198132873,0.022002066,0.334011966,0.113402183,0.1656042,0.121276279,0.265339927],[0.287346767,0.283532572,0.290875,0.060024547,-0.142460254,-0.063082277,0.340004139,0.029863408,0.072364092,0.042317808,0.292811753],[0.264094039,0.25564645,0.290992947,0.035340084,-0.156829251,-0.042019142,0.339592624,0.050837165,0.095898207,0.062186619,0.286881206],[0.01444453,-0.044833019,0.297449079,-0.234030822,-0.316781348,0.18762316,0.341120317,0.281150336,0.355016512,0.280615395,0.227106011],[0.103889632,0.061937802,0.299375921,-0.141073558,-0.264114901,0.108206558,0.345430601,0.202825429,0.267446549,0.206531056,0.251706395],[0.016736414,-0.043771685,0.305513774,-0.238366891,-0.32420649,0.190995348,0.350413737,0.287068647,0.362730753,0.28660946,0.233755396],[0.188301023,0.161721232,0.305878797,-0.057273891,-0.219540612,0.03641942,0.354865209,0.133540254,0.190624663,0.141228572,0.278440106],[-0.125943309,-0.215431877,0.308869103,-0.392037448,-0.415256167,0.322014909,0.350903637,0.41836654,0.510406531,0.411116556,0.199341493],[0.386821401,0.398828858,0.309516812,0.149576802,-0.10195018,-0.140273801,0.363700172,-0.040930598,-0.004527222,-0.023827861,0.332560315],[0.164306638,0.130802851,0.316257573,-0.091342514,-0.245596659,0.065073756,0.366191861,0.165324791,0.227652587,0.171830815,0.280022862],[0.285368261,0.273689585,0.326642972,0.02795414,-0.182828238,-0.0371679,0.38093619,0.067004138,0.118791488,0.079217735,0.31915927],[0.429232889,0.445404616,0.329821116,0.177401572,-0.098205333,-0.164849277,0.387959399,-0.058896529,-0.02195901,-0.039862674,0.358786151],[0.344029482,0.342836656,0.33210443,0.085400451,-0.152883175,-0.086420281,0.388572314,0.019786528,0.066575272,0.034764005,0.338445339],[0.287238325,0.274704524,0.332510417,0.02501367,-0.1881063,-0.034897313,0.387702353,0.07112825,0.124200176,0.083406586,0.324049457],[0.35549378,0.355991194,0.334890365,0.095186901,-0.148912338,-0.094886433,0.392033608,0.01225796,0.058505678,0.027768534,0.343505021],[0.335004618,0.330579313,0.339015145,0.070066137,-0.165975349,-0.073614181,0.396277602,0.034714674,0.08423821,0.049235119,0.341298741],[0.379700222,0.384027516,0.339523445,0.116897732,-0.139160392,-0.113605187,0.397910688,-0.004873616,0.039914898,0.011767701,0.353250187],[0.381921409,0.385865456,0.343465264,0.115942453,-0.142115383,-0.112950478,0.402478959,-0.002968441,0.042578067,0.013762197,0.356785232],[0.356963815,0.354941233,0.348347567,0.085462211,-0.162744128,-0.087134832,0.407485782,0.024245361,0.073746077,0.039770517,0.353991125],[0.284151265,0.266844974,0.352426165,0.005057513,-0.211799216,-0.018676416,0.410446806,0.093589229,0.152048068,0.10563918,0.33820592],[0.328498253,0.319820395,0.353198069,0.051299572,-0.185486326,-0.058175001,0.412373703,0.054574281,0.10840289,0.068727464,0.350265077],[0.23032119,0.200063455,0.363350319,-0.061014125,-0.256723562,0.03726995,0.421696885,0.152674909,0.219762277,0.162123187,0.332475064],[0.000209201,-0.075761053,0.363846734,-0.304732528,-0.398186664,0.245260931,0.416855967,0.359570646,0.451825521,0.358086991,0.27328188],[0.381938074,0.380489877,0.369292234,0.094313511,-0.170378797,-0.095542734,0.432068732,0.022553372,0.074648219,0.039178781,0.376184098],[0.345670509,0.336000244,0.374240458,0.051819744,-0.198005889,-0.05947635,0.436885195,0.059977124,0.117273691,0.074859579,0.370511835],[0.356706828,0.348525494,0.37758396,0.060686365,-0.194907531,-0.067180156,0.44097522,0.053383744,0.110327267,0.068776679,0.375879432],[0.367564699,0.361136707,0.379492512,0.070566995,-0.190347568,-0.07569094,0.443417061,0.045531602,0.101777574,0.061432431,0.380123273],[0.362557644,0.353566534,0.38701104,0.058971366,-0.201644644,-0.066100535,0.451913161,0.057456854,0.116154536,0.073088993,0.384473142],[0.255755039,0.225502986,0.387453244,-0.054323946,-0.267534226,0.030577857,0.449908985,0.153693448,0.22412592,0.164250845,0.357158673],[0.168009455,0.118768758,0.395098752,-0.153507223,-0.329639056,0.114918265,0.456605482,0.239958718,0.321879007,0.246316976,0.340186498],[0.428882633,0.430983095,0.396844011,0.120856813,-0.171791957,-0.119319795,0.464737794,0.00768742,0.061661187,0.02642951,0.40902578],[0.153491717,0.099680095,0.403204923,-0.175651227,-0.347403747,0.133487657,0.465551246,0.260995862,0.346551884,0.266631278,0.342515752],[0.398405774,0.392388237,0.406787955,0.080298581,-0.201341821,-0.085108924,0.475413875,0.044856635,0.104668953,0.06211031,0.408603973],[0.230237067,0.186146625,0.429483783,-0.116532031,-0.32917352,0.081959265,0.497462536,0.218140708,0.302009788,0.227313512,0.382115672]],\"type\":\"heatmap\",\"xaxis\":\"x\",\"yaxis\":\"y\",\"hovertemplate\":\"x: %{x}<br>Eukaryotic lineages: %{y}<br>color: %{z}<extra></extra>\"}],                        {\"template\":{\"data\":{\"bar\":[{\"error_x\":{\"color\":\"#2a3f5f\"},\"error_y\":{\"color\":\"#2a3f5f\"},\"marker\":{\"line\":{\"color\":\"#E5ECF6\",\"width\":0.5},\"pattern\":{\"fillmode\":\"overlay\",\"size\":10,\"solidity\":0.2}},\"type\":\"bar\"}],\"barpolar\":[{\"marker\":{\"line\":{\"color\":\"#E5ECF6\",\"width\":0.5},\"pattern\":{\"fillmode\":\"overlay\",\"size\":10,\"solidity\":0.2}},\"type\":\"barpolar\"}],\"carpet\":[{\"aaxis\":{\"endlinecolor\":\"#2a3f5f\",\"gridcolor\":\"white\",\"linecolor\":\"white\",\"minorgridcolor\":\"white\",\"startlinecolor\":\"#2a3f5f\"},\"baxis\":{\"endlinecolor\":\"#2a3f5f\",\"gridcolor\":\"white\",\"linecolor\":\"white\",\"minorgridcolor\":\"white\",\"startlinecolor\":\"#2a3f5f\"},\"type\":\"carpet\"}],\"choropleth\":[{\"colorbar\":{\"outlinewidth\":0,\"ticks\":\"\"},\"type\":\"choropleth\"}],\"contour\":[{\"colorbar\":{\"outlinewidth\":0,\"ticks\":\"\"},\"colorscale\":[[0.0,\"#0d0887\"],[0.1111111111111111,\"#46039f\"],[0.2222222222222222,\"#7201a8\"],[0.3333333333333333,\"#9c179e\"],[0.4444444444444444,\"#bd3786\"],[0.5555555555555556,\"#d8576b\"],[0.6666666666666666,\"#ed7953\"],[0.7777777777777778,\"#fb9f3a\"],[0.8888888888888888,\"#fdca26\"],[1.0,\"#f0f921\"]],\"type\":\"contour\"}],\"contourcarpet\":[{\"colorbar\":{\"outlinewidth\":0,\"ticks\":\"\"},\"type\":\"contourcarpet\"}],\"heatmap\":[{\"colorbar\":{\"outlinewidth\":0,\"ticks\":\"\"},\"colorscale\":[[0.0,\"#0d0887\"],[0.1111111111111111,\"#46039f\"],[0.2222222222222222,\"#7201a8\"],[0.3333333333333333,\"#9c179e\"],[0.4444444444444444,\"#bd3786\"],[0.5555555555555556,\"#d8576b\"],[0.6666666666666666,\"#ed7953\"],[0.7777777777777778,\"#fb9f3a\"],[0.8888888888888888,\"#fdca26\"],[1.0,\"#f0f921\"]],\"type\":\"heatmap\"}],\"heatmapgl\":[{\"colorbar\":{\"outlinewidth\":0,\"ticks\":\"\"},\"colorscale\":[[0.0,\"#0d0887\"],[0.1111111111111111,\"#46039f\"],[0.2222222222222222,\"#7201a8\"],[0.3333333333333333,\"#9c179e\"],[0.4444444444444444,\"#bd3786\"],[0.5555555555555556,\"#d8576b\"],[0.6666666666666666,\"#ed7953\"],[0.7777777777777778,\"#fb9f3a\"],[0.8888888888888888,\"#fdca26\"],[1.0,\"#f0f921\"]],\"type\":\"heatmapgl\"}],\"histogram\":[{\"marker\":{\"pattern\":{\"fillmode\":\"overlay\",\"size\":10,\"solidity\":0.2}},\"type\":\"histogram\"}],\"histogram2d\":[{\"colorbar\":{\"outlinewidth\":0,\"ticks\":\"\"},\"colorscale\":[[0.0,\"#0d0887\"],[0.1111111111111111,\"#46039f\"],[0.2222222222222222,\"#7201a8\"],[0.3333333333333333,\"#9c179e\"],[0.4444444444444444,\"#bd3786\"],[0.5555555555555556,\"#d8576b\"],[0.6666666666666666,\"#ed7953\"],[0.7777777777777778,\"#fb9f3a\"],[0.8888888888888888,\"#fdca26\"],[1.0,\"#f0f921\"]],\"type\":\"histogram2d\"}],\"histogram2dcontour\":[{\"colorbar\":{\"outlinewidth\":0,\"ticks\":\"\"},\"colorscale\":[[0.0,\"#0d0887\"],[0.1111111111111111,\"#46039f\"],[0.2222222222222222,\"#7201a8\"],[0.3333333333333333,\"#9c179e\"],[0.4444444444444444,\"#bd3786\"],[0.5555555555555556,\"#d8576b\"],[0.6666666666666666,\"#ed7953\"],[0.7777777777777778,\"#fb9f3a\"],[0.8888888888888888,\"#fdca26\"],[1.0,\"#f0f921\"]],\"type\":\"histogram2dcontour\"}],\"mesh3d\":[{\"colorbar\":{\"outlinewidth\":0,\"ticks\":\"\"},\"type\":\"mesh3d\"}],\"parcoords\":[{\"line\":{\"colorbar\":{\"outlinewidth\":0,\"ticks\":\"\"}},\"type\":\"parcoords\"}],\"pie\":[{\"automargin\":true,\"type\":\"pie\"}],\"scatter\":[{\"marker\":{\"colorbar\":{\"outlinewidth\":0,\"ticks\":\"\"}},\"type\":\"scatter\"}],\"scatter3d\":[{\"line\":{\"colorbar\":{\"outlinewidth\":0,\"ticks\":\"\"}},\"marker\":{\"colorbar\":{\"outlinewidth\":0,\"ticks\":\"\"}},\"type\":\"scatter3d\"}],\"scattercarpet\":[{\"marker\":{\"colorbar\":{\"outlinewidth\":0,\"ticks\":\"\"}},\"type\":\"scattercarpet\"}],\"scattergeo\":[{\"marker\":{\"colorbar\":{\"outlinewidth\":0,\"ticks\":\"\"}},\"type\":\"scattergeo\"}],\"scattergl\":[{\"marker\":{\"colorbar\":{\"outlinewidth\":0,\"ticks\":\"\"}},\"type\":\"scattergl\"}],\"scattermapbox\":[{\"marker\":{\"colorbar\":{\"outlinewidth\":0,\"ticks\":\"\"}},\"type\":\"scattermapbox\"}],\"scatterpolar\":[{\"marker\":{\"colorbar\":{\"outlinewidth\":0,\"ticks\":\"\"}},\"type\":\"scatterpolar\"}],\"scatterpolargl\":[{\"marker\":{\"colorbar\":{\"outlinewidth\":0,\"ticks\":\"\"}},\"type\":\"scatterpolargl\"}],\"scatterternary\":[{\"marker\":{\"colorbar\":{\"outlinewidth\":0,\"ticks\":\"\"}},\"type\":\"scatterternary\"}],\"surface\":[{\"colorbar\":{\"outlinewidth\":0,\"ticks\":\"\"},\"colorscale\":[[0.0,\"#0d0887\"],[0.1111111111111111,\"#46039f\"],[0.2222222222222222,\"#7201a8\"],[0.3333333333333333,\"#9c179e\"],[0.4444444444444444,\"#bd3786\"],[0.5555555555555556,\"#d8576b\"],[0.6666666666666666,\"#ed7953\"],[0.7777777777777778,\"#fb9f3a\"],[0.8888888888888888,\"#fdca26\"],[1.0,\"#f0f921\"]],\"type\":\"surface\"}],\"table\":[{\"cells\":{\"fill\":{\"color\":\"#EBF0F8\"},\"line\":{\"color\":\"white\"}},\"header\":{\"fill\":{\"color\":\"#C8D4E3\"},\"line\":{\"color\":\"white\"}},\"type\":\"table\"}]},\"layout\":{\"annotationdefaults\":{\"arrowcolor\":\"#2a3f5f\",\"arrowhead\":0,\"arrowwidth\":1},\"autotypenumbers\":\"strict\",\"coloraxis\":{\"colorbar\":{\"outlinewidth\":0,\"ticks\":\"\"}},\"colorscale\":{\"diverging\":[[0,\"#8e0152\"],[0.1,\"#c51b7d\"],[0.2,\"#de77ae\"],[0.3,\"#f1b6da\"],[0.4,\"#fde0ef\"],[0.5,\"#f7f7f7\"],[0.6,\"#e6f5d0\"],[0.7,\"#b8e186\"],[0.8,\"#7fbc41\"],[0.9,\"#4d9221\"],[1,\"#276419\"]],\"sequential\":[[0.0,\"#0d0887\"],[0.1111111111111111,\"#46039f\"],[0.2222222222222222,\"#7201a8\"],[0.3333333333333333,\"#9c179e\"],[0.4444444444444444,\"#bd3786\"],[0.5555555555555556,\"#d8576b\"],[0.6666666666666666,\"#ed7953\"],[0.7777777777777778,\"#fb9f3a\"],[0.8888888888888888,\"#fdca26\"],[1.0,\"#f0f921\"]],\"sequentialminus\":[[0.0,\"#0d0887\"],[0.1111111111111111,\"#46039f\"],[0.2222222222222222,\"#7201a8\"],[0.3333333333333333,\"#9c179e\"],[0.4444444444444444,\"#bd3786\"],[0.5555555555555556,\"#d8576b\"],[0.6666666666666666,\"#ed7953\"],[0.7777777777777778,\"#fb9f3a\"],[0.8888888888888888,\"#fdca26\"],[1.0,\"#f0f921\"]]},\"colorway\":[\"#636efa\",\"#EF553B\",\"#00cc96\",\"#ab63fa\",\"#FFA15A\",\"#19d3f3\",\"#FF6692\",\"#B6E880\",\"#FF97FF\",\"#FECB52\"],\"font\":{\"color\":\"#2a3f5f\"},\"geo\":{\"bgcolor\":\"white\",\"lakecolor\":\"white\",\"landcolor\":\"#E5ECF6\",\"showlakes\":true,\"showland\":true,\"subunitcolor\":\"white\"},\"hoverlabel\":{\"align\":\"left\"},\"hovermode\":\"closest\",\"mapbox\":{\"style\":\"light\"},\"paper_bgcolor\":\"white\",\"plot_bgcolor\":\"#E5ECF6\",\"polar\":{\"angularaxis\":{\"gridcolor\":\"white\",\"linecolor\":\"white\",\"ticks\":\"\"},\"bgcolor\":\"#E5ECF6\",\"radialaxis\":{\"gridcolor\":\"white\",\"linecolor\":\"white\",\"ticks\":\"\"}},\"scene\":{\"xaxis\":{\"backgroundcolor\":\"#E5ECF6\",\"gridcolor\":\"white\",\"gridwidth\":2,\"linecolor\":\"white\",\"showbackground\":true,\"ticks\":\"\",\"zerolinecolor\":\"white\"},\"yaxis\":{\"backgroundcolor\":\"#E5ECF6\",\"gridcolor\":\"white\",\"gridwidth\":2,\"linecolor\":\"white\",\"showbackground\":true,\"ticks\":\"\",\"zerolinecolor\":\"white\"},\"zaxis\":{\"backgroundcolor\":\"#E5ECF6\",\"gridcolor\":\"white\",\"gridwidth\":2,\"linecolor\":\"white\",\"showbackground\":true,\"ticks\":\"\",\"zerolinecolor\":\"white\"}},\"shapedefaults\":{\"line\":{\"color\":\"#2a3f5f\"}},\"ternary\":{\"aaxis\":{\"gridcolor\":\"white\",\"linecolor\":\"white\",\"ticks\":\"\"},\"baxis\":{\"gridcolor\":\"white\",\"linecolor\":\"white\",\"ticks\":\"\"},\"bgcolor\":\"#E5ECF6\",\"caxis\":{\"gridcolor\":\"white\",\"linecolor\":\"white\",\"ticks\":\"\"}},\"title\":{\"x\":0.05},\"xaxis\":{\"automargin\":true,\"gridcolor\":\"white\",\"linecolor\":\"white\",\"ticks\":\"\",\"title\":{\"standoff\":15},\"zerolinecolor\":\"white\",\"zerolinewidth\":2},\"yaxis\":{\"automargin\":true,\"gridcolor\":\"white\",\"linecolor\":\"white\",\"ticks\":\"\",\"title\":{\"standoff\":15},\"zerolinecolor\":\"white\",\"zerolinewidth\":2}}},\"xaxis\":{\"anchor\":\"y\",\"domain\":[0.0,1.0]},\"yaxis\":{\"anchor\":\"x\",\"domain\":[0.0,1.0],\"autorange\":\"reversed\",\"title\":{\"text\":\"Eukaryotic lineages\"}},\"coloraxis\":{\"colorscale\":[[0.0,\"#0d0887\"],[0.1111111111111111,\"#46039f\"],[0.2222222222222222,\"#7201a8\"],[0.3333333333333333,\"#9c179e\"],[0.4444444444444444,\"#bd3786\"],[0.5555555555555556,\"#d8576b\"],[0.6666666666666666,\"#ed7953\"],[0.7777777777777778,\"#fb9f3a\"],[0.8888888888888888,\"#fdca26\"],[1.0,\"#f0f921\"]]},\"margin\":{\"t\":60}},                        {\"responsive\": true}                    ).then(function(){\n",
              "                            \n",
              "var gd = document.getElementById('da3079f8-5da4-4197-84ae-2e1e1ea28e72');\n",
              "var x = new MutationObserver(function (mutations, observer) {{\n",
              "        var display = window.getComputedStyle(gd).display;\n",
              "        if (!display || display === 'none') {{\n",
              "            console.log([gd, 'removed!']);\n",
              "            Plotly.purge(gd);\n",
              "            observer.disconnect();\n",
              "        }}\n",
              "}});\n",
              "\n",
              "// Listen for the removal of the full notebook cells\n",
              "var notebookContainer = gd.closest('#notebook-container');\n",
              "if (notebookContainer) {{\n",
              "    x.observe(notebookContainer, {childList: true});\n",
              "}}\n",
              "\n",
              "// Listen for the clearing of the current output cell\n",
              "var outputEl = gd.closest('.output');\n",
              "if (outputEl) {{\n",
              "    x.observe(outputEl, {childList: true});\n",
              "}}\n",
              "\n",
              "                        })                };                            </script>        </div>\n",
              "</body>\n",
              "</html>"
            ]
          },
          "metadata": {}
        }
      ]
    }
  ]
}